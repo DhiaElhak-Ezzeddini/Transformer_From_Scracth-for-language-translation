{
 "cells": [
  {
   "cell_type": "code",
   "execution_count": 1,
   "id": "d8a8cef0",
   "metadata": {},
   "outputs": [],
   "source": [
    "from pathlib import Path\n",
    "import torch \n",
    "import torch.nn as nn \n",
    "from config import get_config , get_weights_file_path \n",
    "from train import get_model , get_dataset , validation "
   ]
  },
  {
   "cell_type": "code",
   "execution_count": 2,
   "id": "5d2ea85b",
   "metadata": {},
   "outputs": [
    {
     "name": "stdout",
     "output_type": "stream",
     "text": [
      "Using device cuda\n",
      "Maximum length of source sentence : 309\n",
      "Maximum length of target sentence : 274\n"
     ]
    },
    {
     "data": {
      "text/plain": [
       "<All keys matched successfully>"
      ]
     },
     "execution_count": 2,
     "metadata": {},
     "output_type": "execute_result"
    }
   ],
   "source": [
    "device = torch.device(\"cuda\" if torch.cuda.is_available() else 'cpu')\n",
    "print(f\"Using device {device}\")\n",
    "\n",
    "config = get_config()\n",
    "train_dataloader , val_dataloader , tokenizer_src , tokenizer_tgt = get_dataset(config)\n",
    "model = get_model(config, tokenizer_src.get_vocab_size() , tokenizer_tgt.get_vocab_size()).to(device)\n",
    "model_filename =get_weights_file_path(config , f\"32\") ### f\"..\"   number of he file tmodel... \n",
    "state = torch.load(model_filename)\n",
    "model.load_state_dict(state['model_state_dict'])"
   ]
  },
  {
   "cell_type": "code",
   "execution_count": 7,
   "id": "4c5c5513",
   "metadata": {},
   "outputs": [
    {
     "name": "stdout",
     "output_type": "stream",
     "text": [
      "--------------------------------------------------------------------------------\n",
      "SOURCE : I notice that people always make gigantic arrangements for bathing when they are going anywhere near the water, but that they don't bathe much when they are there.\n",
      "TARGET : Io osservo che la gente fa sempre dei giganteschi preparativi quando deve recarsi presso l’acqua, ma che quando ci si trova, di bagni non ne fa molti.\n",
      "PREDICTED: Io sono stato d ’ accordo che il cantore non sono più di un po ’ di vino , ma quando ci sono , quando ci sono .\n",
      "--------------------------------------------------------------------------------\n",
      "SOURCE : 'Quite all right,' replied Kitty with a smile. 'And your affairs?'\n",
      "TARGET : — Niente, sto benissimo — disse sorridendo Kitty — e da te come si va?\n",
      "PREDICTED: — Ecco , va bene — disse Kitty , sorridendo . — E tu per favore ?\n",
      "--------------------------------------------------------------------------------\n",
      "SOURCE : Though he was overflowing with high spirits Oblonsky immediately fell into a sympathetic and romantic mood suited to hers, inquired after her health and asked how she had spent the morning.\n",
      "TARGET : Malgrado la disposizione d’animo sprizzante allegria in cui si trovava, Stepan Arkad’ic passò subito con naturalezza a quel tono compassionevole, poeticamente eccitato che si confaceva all’umore di lei. Le chiese della sua salute e come avesse passato la mattina.\n",
      "PREDICTED: Malgrado il lavoro , in cui Stepan Arkad ’ ic aveva cominciato a parlare di una certa nuova conversazione , e Stepan Arkad ’ ic aveva capito che la mattina , dopo aver preso a letto , e che la mattina era venuta a parlare di oggi .\n",
      "--------------------------------------------------------------------------------\n",
      "SOURCE : All looked colder and darker in that visionary hollow than in reality: and the strange little figure there gazing at me, with a white face and arms specking the gloom, and glittering eyes of fear moving where all else was still, had the effect of a real spirit: I thought it like one of the tiny phantoms, half fairy, half imp, Bessie's evening stories represented as coming out of lone, ferny dells in moors, and appearing before the eyes of belated travellers.\n",
      "TARGET : Ogni cosa riflessa nello specchio pareva più fredda, più trista che nella realtà, e la strana creaturina che mi fissava col viso bianco, le braccia che si staccavano nell'ombra, gli occhi scintillanti e che movevasi timorosamente in quella camera silente, mi parve uno spirito, una di quelle sottili fantasime, metà fate, metà folletti, di cui Bessie parlava nelle novelle narrate la sera accanto al fuoco e che essa ci descriveva uscente dalle valli abbandonate, ove crescono le eriche per apparire dinanzi ai viaggiatori.\n",
      "PREDICTED: Un sentimento di lei , che aveva provato in mente tutto il corpo e mi aveva prodotto un ' espressione di gioia di un ' espressione di durezza e di una specie di , che era stata aperta da una parte del corpo , e che mi la porta della sala da pranzo , e credo che , per la sala di pranzo , e la la porta della sala da pranzo , e la , che mi in un ' altra porta , mi la .\n",
      "--------------------------------------------------------------------------------\n",
      "SOURCE : Whether or not to apply the Christian principle to his own case was too difficult a question to be lightly discussed, and Karenin had long since answered it in the negative.\n",
      "TARGET : L’adempiere o meno la regola cristiana era questione difficile a risolversi nel suo caso, non se ne poteva parlare alla leggera ed era stata già da tempo decisa da Aleksej Aleksandrovic negativamente.\n",
      "PREDICTED: Non può essere mai in modo che il popolo era necessario per fare il divorzio , per quanto a Aleksej Aleksandrovic si era messo a parlare con Aleksej Aleksandrovic che si era già per lui .\n",
      "--------------------------------------------------------------------------------\n",
      "SOURCE : 'I ought not to be unhappy because a despicable woman has committed a crime, but I must find the best way out of this painful situation in which she has placed me. And find it I will,' said he to himself, frowning more and more.\n",
      "TARGET : «Non può rendere infelice la mia vita il fatto che una donna disprezzabile si sia resa colpevole; io debbo soltanto trovare una via d’uscita da questa situazione penosa nella quale ella mi ha posto.\n",
      "PREDICTED: — Non posso dire che la cosa sia la mia felicità è la mia vita , ma è così che mi pare che sia in me , è un uomo che mi ha fatto il suo amore , è venuto da me — disse , alzandosi e .\n",
      "--------------------------------------------------------------------------------\n",
      "SOURCE : \"God pardon me!\" he subjoined ere long; \"and man meddle not with me: I have her, and will hold her.\"\n",
      "TARGET : Iddio mi assista, — aggiunse poco dopo — che nessuno s'immischi di questo; l'ho ottenuta e la voglio custodire.\n",
      "PREDICTED: — Dio mio ! — esclamò , — mi , — e non mi , non mi la parola .\n",
      "--------------------------------------------------------------------------------\n",
      "SOURCE : The presence of that child always aroused in Vronsky that strange feeling of unreasoning revulsion which had of late come to him.\n",
      "TARGET : La presenza di questo bambino suscitava sempre in Vronskij lo strano senso di nausea irragionevole che egli provava in quegli ultimi tempi.\n",
      "PREDICTED: La conversazione che era stata sempre più allegra , come se avesse avuto il tempo di partire da lei .\n",
      "--------------------------------------------------------------------------------\n",
      "SOURCE : I have almost forgotten you since: other ideas have driven yours from my head; but to-night I am resolved to be at ease; to dismiss what importunes, and recall what pleases.\n",
      "TARGET : Altre idee vi hanno cacciata dalla mia mente, ma oggi voglio allontanare tutto ciò che mi dispiace e richiamare quello che mi diverte.\n",
      "PREDICTED: \" Vi siete molto più felice di voi , Jane , sono sicura che sono felice e che sia felice .\n",
      "--------------------------------------------------------------------------------\n",
      "SOURCE : I say, therefore, that in entirely new principalities, where there is a new prince, more or less difficulty is found in keeping them, accordingly as there is more or less ability in him who has acquired the state.\n",
      "TARGET : Dico adunque, che ne' principati tutti nuovi, dove sia uno nuovo principe, si trova a mantenerli più o meno difficultà, secondo che più o meno è virtuoso colui che li acquista.\n",
      "PREDICTED: Dico , adunque , che , quando el principe è stato da uno principe , o da ' altra parte , non è vero , né più remedio , né in che li è necessario fare , né con li eserciti , è necessario per tenere el principato .\n"
     ]
    }
   ],
   "source": [
    "validation(model , val_dataloader , tokenizer_src , tokenizer_tgt , config['seq_len'], device  , lambda msg:print(msg) , 0 , None , num_examples=10 )"
   ]
  }
 ],
 "metadata": {
  "kernelspec": {
   "display_name": "venv",
   "language": "python",
   "name": "python3"
  },
  "language_info": {
   "codemirror_mode": {
    "name": "ipython",
    "version": 3
   },
   "file_extension": ".py",
   "mimetype": "text/x-python",
   "name": "python",
   "nbconvert_exporter": "python",
   "pygments_lexer": "ipython3",
   "version": "3.9.18"
  }
 },
 "nbformat": 4,
 "nbformat_minor": 5
}
